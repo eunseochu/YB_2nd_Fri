{
  "nbformat": 4,
  "nbformat_minor": 0,
  "metadata": {
    "colab": {
      "provenance": [],
      "authorship_tag": "ABX9TyMmjsDloK5FWhQ2lZ1ZkBVi",
      "include_colab_link": true
    },
    "kernelspec": {
      "name": "python3",
      "display_name": "Python 3"
    },
    "language_info": {
      "name": "python"
    }
  },
  "cells": [
    {
      "cell_type": "markdown",
      "metadata": {
        "id": "view-in-github",
        "colab_type": "text"
      },
      "source": [
        "<a href=\"https://colab.research.google.com/github/eunseochu/YB_2nd_Fri/blob/main/%ED%8C%8C%EC%9D%B4%EC%8D%AC_%EB%A8%B8%EC%8B%A0%EB%9F%AC%EB%8B%9D_%EC%99%84%EB%B2%BD_%EA%B0%80%EC%9D%B4%EB%93%9C_%EB%84%98%ED%8C%8C%EC%9D%B4.ipynb\" target=\"_parent\"><img src=\"https://colab.research.google.com/assets/colab-badge.svg\" alt=\"Open In Colab\"/></a>"
      ]
    },
    {
      "cell_type": "markdown",
      "source": [
        "# **3. 넘파이**"
      ],
      "metadata": {
        "id": "l5MHdeuS65_M"
      }
    },
    {
      "cell_type": "markdown",
      "source": [
        "#### **1) 넘파이란?**\n",
        "\n",
        "파이썬에서 선형대수 기반의 프로그램을 쉽게 만들 수 있도록 지원하는 대표적인 패키지\n",
        "- 루프를 사용하지 않고 대량 데이터의 배열 연산을 가능하게 하므로 빠른 연산 속도를 보장\n",
        "- 파이썬 기반의 많은 과학과 공학 패키지는 넘파이에 의존"
      ],
      "metadata": {
        "id": "HgOjuiFe7SFI"
      }
    },
    {
      "cell_type": "markdown",
      "source": [
        "#### **2) 넘파이의 중요성**\n",
        "\n",
        "데이터는 2차원 형태의 행과 열로 이루어져있으며, 이에 대한 다양한 가공과 변환, 여러가지 통계용 함수의 적용 등이 필요\n",
        "- 대표적인 데이터 처리 패키지인 판다스의 편리성에는 미치지 못함\n",
        "- 그러나 많은 머신러닝 알고리즘은 넘파이 기반으로 작성\n",
        "- 알고리즘의 입력 데이터와 출력 데이터를 넘파이 배열 타입으로 사용하기 때문에 넘파이를 이해하는 것은 매우 중요"
      ],
      "metadata": {
        "id": "N8IfVoCr7yYd"
      }
    },
    {
      "cell_type": "markdown",
      "source": [
        "#### **3) 넘파이 ndarray 개요**\n",
        "\n",
        "ndarray를 이용해 넘파이에서 다차원 배열을 쉽게 생성하고 다양한 연산 수행 가능\n",
        "- shape 변수: ndarray의 크기 (행과 열의 수)를 튜플 형태로 지녀 ndarray 배열의 차원을 알 수 있음\n",
        "\n"
      ],
      "metadata": {
        "id": "bom3CQBW87i7"
      }
    },
    {
      "cell_type": "markdown",
      "source": [
        "\n",
        "\n",
        "> **np.array() 사용법**<br/>\n",
        "ndarray로 변환을 원하는 객체를 인자로 입력하면 ndarray 반환 <br/>\n",
        "**ndarray.shape는 ndarray의 차원과 크기**를 튜플(tuple) 형태로 나타냄\n",
        "\n",
        "\n",
        "\n",
        "\n",
        "\n",
        "\n",
        "\n",
        "\n"
      ],
      "metadata": {
        "id": "tKkP1OJ698ZN"
      }
    },
    {
      "cell_type": "code",
      "source": [
        "import numpy as np\n",
        "array1 = np.array([1, 2, 3])\n",
        "print('array1 type:', type(array1))\n",
        "print('array1 array 형태:', array1.shape) # 1차원 data\n",
        "\n",
        "array2 = np.array([[1,2,3], \n",
        "                   [2,3,4]])\n",
        "print('array2 type:', type(array2))\n",
        "print('array2 array 형태:', array2.shape) # 2개의 row, 3개의 column\n",
        "\n",
        "array3 = np.array([[1,2,3]])\n",
        "print('array3 type:', type(array3))\n",
        "print('array3 array 형태:', array3.shape) # 2차원 data"
      ],
      "metadata": {
        "colab": {
          "base_uri": "https://localhost:8080/"
        },
        "id": "ykyXJY6M7M-n",
        "outputId": "4c2736b8-1c7d-4ae7-d868-bddf1d8d123a"
      },
      "execution_count": 2,
      "outputs": [
        {
          "output_type": "stream",
          "name": "stdout",
          "text": [
            "array1 type: <class 'numpy.ndarray'>\n",
            "array1 array 형태: (3,)\n",
            "array2 type: <class 'numpy.ndarray'>\n",
            "array2 array 형태: (2, 3)\n",
            "array3 type: <class 'numpy.ndarray'>\n",
            "array3 array 형태: (1, 3)\n"
          ]
        }
      ]
    },
    {
      "cell_type": "markdown",
      "source": [
        "데이터값으로는 서로 동일하나 차원이 달라 오류가 발생하는 경우가 빈번하므로 주의\n"
      ],
      "metadata": {
        "id": "rUa-poTmAKDy"
      }
    },
    {
      "cell_type": "markdown",
      "source": [
        "\n",
        "\n",
        "> **ndarray.ndim을 통해 각 array의 차원 확인 <br/>**\n",
        "array() 함수의 인자로는 파이썬의 리스트 객체가 주로 사용됨 <br/>\n",
        "리스트 [ ]는 1차원이고, 리스트의 리스트 [ [ ] ]는 2차원과 같은 형태로 배열의 차원과 크기를 쉽게 표현 가능\n",
        "\n"
      ],
      "metadata": {
        "id": "ondJlrtxBCxo"
      }
    },
    {
      "cell_type": "code",
      "source": [
        "print('array1: {:0}차원, array2: {:1}차원, array3: {:2}차원'.format(array1.ndim, array2.ndim, array3.ndim ))"
      ],
      "metadata": {
        "colab": {
          "base_uri": "https://localhost:8080/"
        },
        "id": "rK1GF_0-AnBP",
        "outputId": "5a7aea39-a56f-466d-a6f5-9dd9e850c409"
      },
      "execution_count": 4,
      "outputs": [
        {
          "output_type": "stream",
          "name": "stdout",
          "text": [
            "array1: 1차원, array2: 2차원, array3:  2차원\n"
          ]
        }
      ]
    },
    {
      "cell_type": "markdown",
      "source": [
        "#### **4) ndarray의 데이터 타입**\n",
        "ndarray의 데이터 타입은 숫자 값, 문자열 값, 불 값 등 모두 가능 <br/>\n",
        "- 숫자형: int형 (8bit, 16bit, 32bit), unsigned int형 (8bit, 16bit, 32bit), float형 (16bit, 32bit, 64bit, 128bit), complex형 (더 큰 숫자 값이나 정밀도)\n",
        "- ndarray 내의 데이터 타입은 연산의 특성 상 같은 데이터 타입만 가능 (한 개의 ndarray 객체에 int와 float가 공존 불가능)"
      ],
      "metadata": {
        "id": "_4R31AZ0BivX"
      }
    },
    {
      "cell_type": "markdown",
      "source": [
        "> **drtype 특성을 통해 ndarray 내의 데이터 타입 확인** <br/>\n",
        "서로 다른 데이터 타입을 가질 수 있는 리스트와는 다르게 ndarray 내의 데이터 타입은 그 연산의 특성상 같은 데이터 타입만 가능\n"
      ],
      "metadata": {
        "id": "dAkJwdNXCt0E"
      }
    },
    {
      "cell_type": "code",
      "source": [
        "list1 = [1, 2, 3]\n",
        "print(type(list1))\n",
        "array1 = np.array(list1)\n",
        "print(type(array1))\n",
        "print(array1, array1.dtype)"
      ],
      "metadata": {
        "colab": {
          "base_uri": "https://localhost:8080/"
        },
        "id": "GGOPK9xAC9TJ",
        "outputId": "51f3aa7e-930c-4b1e-e495-d47238bac660"
      },
      "execution_count": 5,
      "outputs": [
        {
          "output_type": "stream",
          "name": "stdout",
          "text": [
            "<class 'list'>\n",
            "<class 'numpy.ndarray'>\n",
            "[1 2 3] int64\n"
          ]
        }
      ]
    },
    {
      "cell_type": "markdown",
      "source": [
        "> **int형과 float형이 섞인 리스트 ndarray로 변경 <br/>**\n",
        "만일 다른 데이터 유형이 섞인 리스트르 ndarry로 변경 시 데이터 크기가 더 큰 타입으로 형 변환 일괄 적용"
      ],
      "metadata": {
        "id": "oxZielXrDqrQ"
      }
    },
    {
      "cell_type": "code",
      "source": [
        "list2 = [1, 2, 'test']\n",
        "array2 = np.array(list2)\n",
        "print(array2, array2.dtype) # 문자열 값 (유니코드) 으로 일괄 변환\n",
        "\n",
        "list3 = [1, 2, 3.0]\n",
        "array3 = np.array(list3)\n",
        "print(array3, array3.dtype) # float형으로 일괄 변환"
      ],
      "metadata": {
        "colab": {
          "base_uri": "https://localhost:8080/"
        },
        "id": "SQB5LjIgDyUx",
        "outputId": "05e77ffa-f23a-4c93-82bd-9740425dd564"
      },
      "execution_count": 6,
      "outputs": [
        {
          "output_type": "stream",
          "name": "stdout",
          "text": [
            "['1' '2' 'test'] <U21\n",
            "[1. 2. 3.] float64\n"
          ]
        }
      ]
    },
    {
      "cell_type": "markdown",
      "source": [
        "> **astype() 메서드로 ndarray 내 데이터 타입 변경** <br/>\n",
        "astype()에 인자로 원하는 타입을 문자열로 지정 <br/>\n",
        "데이터 타입 변경 시 대용량 데이터의 ndarray를 만들 때 많은 메모리가 사용되기에, 메모리 절약 시 주로 이용"
      ],
      "metadata": {
        "id": "_bxGBmCEEPAA"
      }
    },
    {
      "cell_type": "code",
      "source": [
        "array_int = np.array([1, 2, 3])\n",
        "array_float = array_int.astype('float64')\n",
        "print(array_float, array_float.dtype) # int32형 -> float64형\n",
        "\n",
        "array_int1 = array_float.astype('int32')\n",
        "print(array_int1, array_int1.dtype) # float64형 -> int32형 (소수점 이하 사라짐)\n",
        "\n",
        "array_float1 = np.array([1.1, 2.1, 3.1])\n",
        "array_int2 = array_float1.astype('int32')\n",
        "print(array_int2, array_int2.dtype)"
      ],
      "metadata": {
        "id": "6B4ScdeGEkVW"
      },
      "execution_count": null,
      "outputs": []
    },
    {
      "cell_type": "markdown",
      "source": [
        "#### **5) ndarray를 편리하게 생성하기 - arange, zeros, ones**\n",
        "특정 크기와 차원을 가진 ndarray를 연속값이나 0 또는 1로 초기화에 쉽게 생성해야 할 필요가 있는 경우 존재 <br/>\n",
        "주로 test용으로 데이터를 만들거나 대규모의 데이터를 일괄적으로 초기화해야 할 경우에 사용\n"
      ],
      "metadata": {
        "id": "uKEnUmPyFORY"
      }
    },
    {
      "cell_type": "markdown",
      "source": [
        "> **arange()** <br/>\n",
        "0부터 함수 인자 값 -1까지의 값을 순차적으로 ndarray의 데이터 값으로 변환 <br/>\n",
        "파이썬 표준 함수인 range()와 유사 (array를 range()로 표현) <br/>\n",
        "- default 함수 인자: stop\n",
        "- 0부터 stop 값인 10에서 -1을 더한 9까지의 연속 숫자 값으로 구성된 1차원 ndarray 생성"
      ],
      "metadata": {
        "id": "fO1dtvFQFge2"
      }
    },
    {
      "cell_type": "code",
      "source": [
        "sequence_array = np.arange(10)\n",
        "print(sequence_array)\n",
        "print(sequence_array.dtype, sequence_array.shape)"
      ],
      "metadata": {
        "colab": {
          "base_uri": "https://localhost:8080/"
        },
        "id": "DXHARmVGFtMX",
        "outputId": "c8b13dba-33c2-4207-c849-164f930b35ac"
      },
      "execution_count": 9,
      "outputs": [
        {
          "output_type": "stream",
          "name": "stdout",
          "text": [
            "[0 1 2 3 4 5 6 7 8 9]\n",
            "int64 (10,)\n"
          ]
        }
      ]
    },
    {
      "cell_type": "markdown",
      "source": [
        "> **zeros(), ones()** <br/>\n",
        "함수 인자로 dtype을 정해주지 않으면 default로 float64형의 데이터로 ndarray를 채움\n",
        "- zeros(): 함수 인자로 튜플 형태의 shape 값을 입력하면 모든 값을 0으로 채운 해당 shape를 가진 ndarray를 반환\n",
        "- ones(): 함수 인자로 튜플 형태의 shape 값을 입력하면 모든 값을 1로 채운 해당 shape를 가진 ndarray를 반환\n"
      ],
      "metadata": {
        "id": "NoTTVTYCF9JX"
      }
    },
    {
      "cell_type": "code",
      "source": [
        "zero_array = np.zeros((3,2), dtype='int32')\n",
        "print(zero_array)\n",
        "print(zero_array.dtype, zero_array.shape)\n",
        "\n",
        "one_array = np.ones((3,2))\n",
        "print(one_array)\n",
        "print(one_array.dtype, one_array.shape)"
      ],
      "metadata": {
        "colab": {
          "base_uri": "https://localhost:8080/"
        },
        "id": "eumUwO0RG4pk",
        "outputId": "d8607d6b-0a7f-4018-8e9c-81a7ca9de403"
      },
      "execution_count": 10,
      "outputs": [
        {
          "output_type": "stream",
          "name": "stdout",
          "text": [
            "[[0 0]\n",
            " [0 0]\n",
            " [0 0]]\n",
            "int32 (3, 2)\n",
            "[[1. 1.]\n",
            " [1. 1.]\n",
            " [1. 1.]]\n",
            "float64 (3, 2)\n"
          ]
        }
      ]
    },
    {
      "cell_type": "markdown",
      "source": [
        "#### **6) ndarray의 차원과 크기를 변경하는 reshape()** <br/>\n",
        "reshape() 메서드는 ndarray를 특정 차원 및 크기로 변환"
      ],
      "metadata": {
        "id": "0MigLRYQHI6l"
      }
    },
    {
      "cell_type": "markdown",
      "source": [
        "> **reshape() 사용법 <br/>**\n",
        "변환을 원하는 크기를 함수 인자로 부여"
      ],
      "metadata": {
        "id": "XGtMRRSUILM1"
      }
    },
    {
      "cell_type": "code",
      "source": [
        "array1 = np.arange(10)\n",
        "print('array1: \\n', array1)\n",
        "\n",
        "array2 = array1.reshape(2,5)\n",
        "print('array2: \\n', array2) # 2 row 5 column\n",
        "\n",
        "array3 = array1.reshape(5,2)\n",
        "print('array3: \\n', array3) # 5 row 2 column"
      ],
      "metadata": {
        "colab": {
          "base_uri": "https://localhost:8080/"
        },
        "id": "8Lb2eC-KHfh8",
        "outputId": "6f4aee85-b276-4a00-f126-a60597afd137"
      },
      "execution_count": 11,
      "outputs": [
        {
          "output_type": "stream",
          "name": "stdout",
          "text": [
            "array1: \n",
            " [0 1 2 3 4 5 6 7 8 9]\n",
            "array2: \n",
            " [[0 1 2 3 4]\n",
            " [5 6 7 8 9]]\n",
            "array3: \n",
            " [[0 1]\n",
            " [2 3]\n",
            " [4 5]\n",
            " [6 7]\n",
            " [8 9]]\n"
          ]
        }
      ]
    },
    {
      "cell_type": "markdown",
      "source": [
        "> **reshape() 오류** <br/>\n",
        "지정된 사이즈로 변경이 불가능하면 오류 발생"
      ],
      "metadata": {
        "id": "W_no3SkCH0MK"
      }
    },
    {
      "cell_type": "code",
      "source": [
        "array1.reshape(4,3) # (10,) data를 (4,3) shape 형태로 변경 불가능"
      ],
      "metadata": {
        "colab": {
          "base_uri": "https://localhost:8080/",
          "height": 170
        },
        "id": "p_F829akH5Md",
        "outputId": "a30a24b1-d626-4791-f54a-826d6a413529"
      },
      "execution_count": 13,
      "outputs": [
        {
          "output_type": "error",
          "ename": "ValueError",
          "evalue": "ignored",
          "traceback": [
            "\u001b[0;31m---------------------------------------------------------------------------\u001b[0m",
            "\u001b[0;31mValueError\u001b[0m                                Traceback (most recent call last)",
            "\u001b[0;32m<ipython-input-13-29d6f1780e52>\u001b[0m in \u001b[0;36m<module>\u001b[0;34m\u001b[0m\n\u001b[0;32m----> 1\u001b[0;31m \u001b[0marray1\u001b[0m\u001b[0;34m.\u001b[0m\u001b[0mreshape\u001b[0m\u001b[0;34m(\u001b[0m\u001b[0;36m4\u001b[0m\u001b[0;34m,\u001b[0m\u001b[0;36m3\u001b[0m\u001b[0;34m)\u001b[0m \u001b[0;31m# (10,) data를 (4,3) shape 형태로 변경 불가능\u001b[0m\u001b[0;34m\u001b[0m\u001b[0;34m\u001b[0m\u001b[0m\n\u001b[0m",
            "\u001b[0;31mValueError\u001b[0m: cannot reshape array of size 10 into shape (4,3)"
          ]
        }
      ]
    },
    {
      "cell_type": "markdown",
      "source": [
        "> **reshape() 활용: 인자로 -1을 적용 (1) <br/>**\n",
        "-1을 인자로 사용하면 원래 ndarray와 호환되는 새로운 shape로 변환 <br/>"
      ],
      "metadata": {
        "id": "-duvYJkWIbWt"
      }
    },
    {
      "cell_type": "code",
      "source": [
        "array1 = np.arange(10)\n",
        "print(array1)\n",
        "array2 = array1.reshape(-1, 5)\n",
        "print('array2 shape:', array2.shape) # 고정된 5개 column에 맞는 row 자동 생성\n",
        "array3 = array1.reshape(5, -1)\n",
        "print('array3 shape:', array3.shape) # 고정된 5개 row에 맞는 column 자동 생성"
      ],
      "metadata": {
        "colab": {
          "base_uri": "https://localhost:8080/"
        },
        "id": "9jBPYSX0IuoD",
        "outputId": "0f6d1707-988b-461e-bc50-da241197c0e3"
      },
      "execution_count": 15,
      "outputs": [
        {
          "output_type": "stream",
          "name": "stdout",
          "text": [
            "[0 1 2 3 4 5 6 7 8 9]\n",
            "array2 shape: (2, 5)\n",
            "array3 shape: (5, 2)\n"
          ]
        }
      ]
    },
    {
      "cell_type": "code",
      "source": [
        "array1 = np.arange(10)\n",
        "array4 = array1.reshape(-1, 4) # 고정된 4개의 row에 맞는 column 자동 생성 - 없어서 error"
      ],
      "metadata": {
        "id": "EFKIO2eLJJNM"
      },
      "execution_count": null,
      "outputs": []
    },
    {
      "cell_type": "markdown",
      "source": [
        "> **reshape() 활용: 인자로 -1을 적용 (2) <br/>**\n",
        "reshape(-1,1) 형태로 주로 사용 <br/>\n",
        "- 원본 ndarray가 어떤 형태라도 2차원이고, 여러 개의 row를 가지되 반드시 1개의 column을 가진 ndarray로 변환됨을 보장 <br/>\n",
        "- 여러 개의 넘파이 ndarray는 stack이나 concat으로 결합할 때 각각의 ndarray의 형태를 통일해 유용하게 사용"
      ],
      "metadata": {
        "id": "95VsndzrJrnl"
      }
    },
    {
      "cell_type": "code",
      "source": [
        "array1 = np.arange(8)\n",
        "array3d = array1.reshape((2, 2, 2))\n",
        "print('array3d:\\n', array3d.tolist()) # tolist() 메서드를 통해 리스트 자료형으로 변환 가능\n",
        "\n",
        "# 3차원 ndarray를 2차원 ndarray로 변환\n",
        "array5 = array3d.reshape(-1, 1)\n",
        "print('array5d:\\n', array5.shape)\n",
        "\n",
        "# 1차원 ndarray를 2차원 ndarray로 변환\n",
        "array6 = array1.reshape(-1, 1)\n",
        "print('array6:\\n', array6.tolist())\n",
        "print('array6 shape:', array6.shape)"
      ],
      "metadata": {
        "colab": {
          "base_uri": "https://localhost:8080/"
        },
        "id": "iZkIWibwKJ6Y",
        "outputId": "da997f03-40e0-470c-b4a0-13df5e38752c"
      },
      "execution_count": 17,
      "outputs": [
        {
          "output_type": "stream",
          "name": "stdout",
          "text": [
            "array3d:\n",
            " [[[0, 1], [2, 3]], [[4, 5], [6, 7]]]\n",
            "array5d:\n",
            " (8, 1)\n",
            "array6:\n",
            " [[0], [1], [2], [3], [4], [5], [6], [7]]\n",
            "array6 shape: (8, 1)\n"
          ]
        }
      ]
    },
    {
      "cell_type": "markdown",
      "source": [
        "#### **7. 넘파이의 ndarray의 데이터 세트 선택하기 - 인덱싱 (indexing)**\n",
        "넘파이에서 ndarray 내의 일부 데이터 세트나 특정 데이터만을 선택할 수 있도록 함 <br/>\n",
        "\n",
        " **1. 특정한 데이터만 추출**: 원하는 위치의 인덱스 값을 지정하면 해당 위치의 데이터 반환 <br/>\n",
        "\n",
        " **2. 슬라이싱 (Slicing):** <br/>\n",
        "\n",
        "-  연속된 인덱스상의 ndarray 추출. \n",
        "- ':' 기호 사이에 시작 인덱스와 종료 인덱스를 표시하면 시작 인덱스에서 종료 인덱스-1 위치에 있는 데이터의 ndarray 반환 <br/>\n",
        "\n",
        "\n",
        " **3. 팬시 인덱싱 (Fancy Indexing)**: 일정한 인덱싱 집합을 리스트 또는 ndarray 형태로 지정해 해당 위치에 있는 데이터의 ndarray 반환 <br/>\n",
        "\n",
        " **4. 불린 인덱싱 (Boolean indexing):**\n",
        "- 특정 조건에 해당하는지 여부인 True/False 값 인덱싱 집합을 기반\n",
        "- True에 해당하는 인덱스 위치에 있는 데이터의 ndarray 반환\n"
      ],
      "metadata": {
        "id": "WGHQ_KI5LFAQ"
      }
    },
    {
      "cell_type": "markdown",
      "source": [
        "\n",
        "\n",
        "> **단일 값 추출 (1)** <br/>\n",
        "ndarray 객체에 해당하는 위치의 인덱스 값을 [ ] 안에 입력\n",
        "\n"
      ],
      "metadata": {
        "id": "xNw-W26BM9Mu"
      }
    },
    {
      "cell_type": "code",
      "source": [
        "# 1부터 9까지의 1차원 ndarray todtjd\n",
        "array1 = np.arange(start = 1, stop = 10)\n",
        "print('array1:', array1)\n",
        "\n",
        "#index는 0부터 시작하므로 array1[2]는 3번째 index 위치의 데이터 값을 의미\n",
        "value = array1[2]\n",
        "print('value:', value)\n",
        "print(type(value)) # ndarray type이 아닌 ndarray 내 데이터 값 의미"
      ],
      "metadata": {
        "colab": {
          "base_uri": "https://localhost:8080/"
        },
        "id": "Q-N5QYwoMBUv",
        "outputId": "95cfe5be-c092-4055-d21b-91e9eb2680ff"
      },
      "execution_count": 19,
      "outputs": [
        {
          "output_type": "stream",
          "name": "stdout",
          "text": [
            "array1: [1 2 3 4 5 6 7 8 9]\n",
            "value: 3\n",
            "<class 'numpy.int64'>\n"
          ]
        }
      ]
    },
    {
      "cell_type": "markdown",
      "source": [
        "> **단일 값 추출 (2)** <br/>\n",
        "인덱스에 마이너스 기호를 이용하면 맨 뒤에서부터 데이터 추출 가능 <br/>\n",
        "- -1은 맨 뒤의 데이터 값\n",
        "- -2는 맨 뒤에서 두 번째에 있는 데이터 값"
      ],
      "metadata": {
        "id": "aYLrQxElNkE4"
      }
    },
    {
      "cell_type": "code",
      "source": [
        "print('맨 뒤의 값:', array1[-1], '맨 뒤에서 두 번째 값:', array1[-2])"
      ],
      "metadata": {
        "colab": {
          "base_uri": "https://localhost:8080/"
        },
        "id": "TiYzWLcyNvHq",
        "outputId": "d645e4a4-6a67-433a-9df1-29ecbd8e7b21"
      },
      "execution_count": 20,
      "outputs": [
        {
          "output_type": "stream",
          "name": "stdout",
          "text": [
            "맨 뒤의 값: 9 맨 뒤에서 두 번째 값: 8\n"
          ]
        }
      ]
    },
    {
      "cell_type": "markdown",
      "source": [
        "> **단일 값 추출 (3): ndarray 내 데이터값 수정** <br/>\n",
        "단일 인덱스를 이용해 ndarray 내 데이터값도 간단히 수정 가능"
      ],
      "metadata": {
        "id": "s1D2yPNQN6y4"
      }
    },
    {
      "cell_type": "code",
      "source": [
        "array1[0] = 9\n",
        "array1[8] = 0\n",
        "print('array1:', array1)"
      ],
      "metadata": {
        "colab": {
          "base_uri": "https://localhost:8080/"
        },
        "id": "FIaZd1T1OCOs",
        "outputId": "ed820888-2be0-4e12-9db1-0cd7d9c30ff8"
      },
      "execution_count": 21,
      "outputs": [
        {
          "output_type": "stream",
          "name": "stdout",
          "text": [
            "array1: [9 2 3 4 5 6 7 8 0]\n"
          ]
        }
      ]
    },
    {
      "cell_type": "markdown",
      "source": [
        "\n",
        "\n",
        "> **단일 값 추출 (4): 다차원 ndarray에서 추출 <br/>**\n",
        "다차원의 경우 콤마(,)로 분리된 row와 column 위치의 인덱스를 통해 접근 <br/>\n",
        "ndarray에서는 row, column이 아닌 axis0, axis1으로 표현 \n",
        "- ex. [row = 0, col = 1] = [axis0 = 0, axis1 = 1]\n",
        "- 다차원 ndarray에서는 축(axis)에 따른 연산을 지원\n",
        "\n"
      ],
      "metadata": {
        "id": "lvGK2FOaOerr"
      }
    },
    {
      "cell_type": "code",
      "source": [
        "# 1차원 andarray를 2차원의 3x3 ndarray로 변환후 [row, col]을 이용해 2차원 ndarray에서 데이터 추출\n",
        "array1d = np.arange(start = 1, stop = 10)\n",
        "array2d = array1d.reshape(3, 3) # 3x3으로 변환\n",
        "print(array1)\n",
        "\n",
        "print('(row = 0, col = 0) index 가리키는 값:', array2d[0, 0])\n",
        "print('(row = 0, col = 1) index 가리키는 값:', array2d[0, 1])\n",
        "print('(row = 1, col = 0) index 가리키는 값:', array2d[1, 0])\n",
        "print('(row = 2, col = 2) index 가리키는 값:', array2d[2, 2])"
      ],
      "metadata": {
        "colab": {
          "base_uri": "https://localhost:8080/"
        },
        "id": "fujkqbroOq7f",
        "outputId": "d0b440c3-c810-4ea8-f80a-a91f41f3c508"
      },
      "execution_count": 22,
      "outputs": [
        {
          "output_type": "stream",
          "name": "stdout",
          "text": [
            "[9 2 3 4 5 6 7 8 0]\n",
            "(row = 0, col = 0) index 가리키는 값: 1\n",
            "(row = 0, col = 1) index 가리키는 값: 2\n",
            "(row = 1, col = 0) index 가리키는 값: 4\n",
            "(row = 2, col = 2) index 가리키는 값: 9\n"
          ]
        }
      ]
    },
    {
      "cell_type": "markdown",
      "source": [
        "\n",
        "\n",
        "> **슬라이싱 (1)** <br/>\n",
        "':' 기호를 이용해 연속한 데이터를 슬라이싱해서 추출 가능 <br/>\n",
        "- 단일 데이터값 추출을 제외하고 슬라이싱, 팬시 인덱싱, 불린 인덱싱으로 추출된 데이터 세트는 모두 ndarray 타입 <br/>\n",
        "- ':' 사이에 시작 인덱스와 종료 인덱스를 표시하면 **시작 인덱스에서 종료 인덱스-1 위치**에 있는 데이터의 ndarray를 반환 <br/>\n"
      ],
      "metadata": {
        "id": "EXoWd8aiPzl3"
      }
    },
    {
      "cell_type": "code",
      "source": [
        "array1 = np.arange(start = 1, stop = 10)\n",
        "array3 = array1[0:3]\n",
        "print(array3)\n",
        "print(type(array3))"
      ],
      "metadata": {
        "colab": {
          "base_uri": "https://localhost:8080/"
        },
        "id": "yHNvYn58P1qm",
        "outputId": "c27efb14-83c7-40b0-e4e3-79c83a088a66"
      },
      "execution_count": 23,
      "outputs": [
        {
          "output_type": "stream",
          "name": "stdout",
          "text": [
            "[1 2 3]\n",
            "<class 'numpy.ndarray'>\n"
          ]
        }
      ]
    },
    {
      "cell_type": "markdown",
      "source": [
        "> **슬라이싱 (2)** <br/>\n",
        "슬라이싱 기호인 ':' 사이의 시작, 종료 인덱스는 생략 가능 <br/>\n",
        "- ':' 기호 앞에 시작 인덱스를 생략하면 자동으로 맨 처음 인덱스인 0으로 간주 <br/>\n",
        "- ':' 기호 뒤에 종료 인덱스를 생략하면 자동으로 맨 마지막 인덱스로 간주 <br/>\n",
        "- ':' 기호 앞/뒤에 시작/종료 인덱스를 모두 생략하면 자동으로 맨 처음/맨 마지막 인덱스로 간주"
      ],
      "metadata": {
        "id": "26Vq2WT1QkXj"
      }
    },
    {
      "cell_type": "code",
      "source": [
        "array1 = np.arange(start = 1, stop = 10)\n",
        "array4 = array1[:3]\n",
        "print(array4)\n",
        "\n",
        "array5 = array1[3:]\n",
        "print(array5)\n",
        "\n",
        "array6 = array1[:]\n",
        "print(array6)"
      ],
      "metadata": {
        "colab": {
          "base_uri": "https://localhost:8080/"
        },
        "id": "NMV4CjtnQ3a2",
        "outputId": "93d57066-e242-4ff8-ecdf-ccef9480dc20"
      },
      "execution_count": 24,
      "outputs": [
        {
          "output_type": "stream",
          "name": "stdout",
          "text": [
            "[1 2 3]\n",
            "[4 5 6 7 8 9]\n",
            "[1 2 3 4 5 6 7 8 9]\n"
          ]
        }
      ]
    },
    {
      "cell_type": "code",
      "source": [
        "# 2차원 ndarray 슬라이싱\n",
        "array1d = np.arange(start = 1, stop = 10)\n",
        "array2d = array1d.reshape(3, 3)\n",
        "print('array2d:\\n', array2d)\n",
        "\n",
        "print('array2d[0:2, 0:2] \\n', array2d[0:2, 0:2])\n",
        "print('array2d[1:3, 0:3] \\n', array2d[1:3, 0:3])\n",
        "print('array2d[1:3, :] \\n', array2d[1:3, :])\n",
        "print('array2d[:, :] \\n', array2d[:, :])\n",
        "print('array2d[:2, 1:] \\n', array2d[:2, 1:])\n",
        "print('array2d[:2, 0] \\n', array2d[:2, 0])"
      ],
      "metadata": {
        "colab": {
          "base_uri": "https://localhost:8080/"
        },
        "id": "Ma7_GzfHRQnG",
        "outputId": "997dcbfe-468e-4c79-fa55-2186e7561185"
      },
      "execution_count": 25,
      "outputs": [
        {
          "output_type": "stream",
          "name": "stdout",
          "text": [
            "array2d:\n",
            " [[1 2 3]\n",
            " [4 5 6]\n",
            " [7 8 9]]\n",
            "array2d[0:2, 0:2] \n",
            " [[1 2]\n",
            " [4 5]]\n",
            "array2d[1:3, 0:3] \n",
            " [[4 5 6]\n",
            " [7 8 9]]\n",
            "array2d[1:3, :] \n",
            " [[4 5 6]\n",
            " [7 8 9]]\n",
            "array2d[:, :] \n",
            " [[1 2 3]\n",
            " [4 5 6]\n",
            " [7 8 9]]\n",
            "array2d[:2, 1:] \n",
            " [[2 3]\n",
            " [5 6]]\n",
            "array2d[:2, 0] \n",
            " [1 4]\n"
          ]
        }
      ]
    },
    {
      "cell_type": "markdown",
      "source": [
        "> **슬라이싱 (3)** <br/>\n",
        "2차원 ndarray에서 뒤에 오는 인덱스를 없애면 1차원 ndarray 반환 <br/>\n",
        "- 2차원에서 뒤에 오는 인덱스를 없애면 axis 0(row)의 첫번째 row ndarry 반환 <br/>\n",
        "- 3차원에서 뒤에 오는 인덱스를 없애면 2차원 ndarray 반환"
      ],
      "metadata": {
        "id": "fqmxThXUY5Oa"
      }
    },
    {
      "cell_type": "code",
      "source": [
        "print(array2d[0])\n",
        "print(array2d[1])\n",
        "print('array2d[0] shape:', array2d[0].shape, 'array2d[1] shape:', array2d[1].shape)"
      ],
      "metadata": {
        "colab": {
          "base_uri": "https://localhost:8080/"
        },
        "id": "tNzjGDoiZQpE",
        "outputId": "5b637ab1-4a42-4d5f-f3ff-b96e084acc20"
      },
      "execution_count": 26,
      "outputs": [
        {
          "output_type": "stream",
          "name": "stdout",
          "text": [
            "[1 2 3]\n",
            "[4 5 6]\n",
            "array2d[0] shape: (3,) array2d[1] shape: (3,)\n"
          ]
        }
      ]
    },
    {
      "cell_type": "markdown",
      "source": [
        "#### **8. 팬시 인덱싱**\n",
        "팬시 인덱싱 (Facny Indexing)은 리스트나 ndarry로 인덱스 집합을 지정하면 **해당 위치의 인덱스에 해당하는 ndarray를 반환**하는 인덱싱 방식"
      ],
      "metadata": {
        "id": "7DmHvHTAZdIP"
      }
    },
    {
      "cell_type": "code",
      "source": [
        "array1d = np.arange(start = 1, stop = 10)\n",
        "array2d = array1d.reshape(3, 3)\n",
        "\n",
        "array3 = array2d[[0, 1], 2] # row 축에 팬시 인덱싱, column축에 단일 값 인덱싱 2: (row, col) = (0, 2), (1, 2)\n",
        "print('array2d[[0, 1], 2] =>', array3.tolist())\n",
        "\n",
        "array4 = array2d[[0, 1], 0:2] # ((0, 0), (0, 1)), ((1, 0), (1, 1))\n",
        "print('array2d[[0, 1], 0:1] =>', array4.tolist())\n",
        "\n",
        "array5 = array2d[[0, 1]] # ((0, :), (1, :))\n",
        "print('array2d[[0, 1]] =>', array5.tolist())"
      ],
      "metadata": {
        "colab": {
          "base_uri": "https://localhost:8080/"
        },
        "id": "RZMC5xUeZqcb",
        "outputId": "ea039106-b0d6-4494-cc39-2fa0aa5126e1"
      },
      "execution_count": 28,
      "outputs": [
        {
          "output_type": "stream",
          "name": "stdout",
          "text": [
            "array2d[[0, 1], 2] => [3, 6]\n",
            "array2d[[0, 1], 0:1] => [[1, 2], [4, 5]]\n",
            "array2d[[0, 1]] => [[1, 2, 3], [4, 5, 6]]\n"
          ]
        }
      ]
    },
    {
      "cell_type": "markdown",
      "source": [
        "#### **9. 불린 인덱싱**\n",
        "불린 인덱싱 (Boolean indexing)은 조건 필터링과 검색을 동시에 할 수 있기 때문에 매우 자주 사용 <br/>\n",
        "- for loop/if else문보다 훨씬 간단하게 구현 <br/>\n",
        "- ndarray의 인덱스를 지정하는 [ ] 내에 조건문 그대로 기재"
      ],
      "metadata": {
        "id": "nhqxov94aziY"
      }
    },
    {
      "cell_type": "code",
      "source": [
        "array1d = np.arange(start = 1, stop = 10)\n",
        "# [ ] 안에 array1 > 5 Boolean indexing을 적용\n",
        "array3 = array1d[array1d > 5]\n",
        "print('array1d > 5 불린 인덱싱 결과 값 :', array3)"
      ],
      "metadata": {
        "colab": {
          "base_uri": "https://localhost:8080/"
        },
        "id": "rypaTPTpbDT5",
        "outputId": "8031dc5d-9956-4414-c623-48a46ca1f465"
      },
      "execution_count": 29,
      "outputs": [
        {
          "output_type": "stream",
          "name": "stdout",
          "text": [
            "array1d > 5 불린 인덱싱 결과 값 : [6 7 8 9]\n"
          ]
        }
      ]
    },
    {
      "cell_type": "markdown",
      "source": [
        "\n",
        "\n",
        "> **불린 인덱싱 조건 필터링 과정** <br/>\n",
        "ndarray 객체에 조건식을 붙이면 False, True로 이루어진 ndarray 객체 반환 후, <br/>\n",
        "False 값은 무시하고 True 값이 있는 위치 인덱스 값으로 자동 변환해 해당하는 인덱스 위치의 데이터만 변환\n",
        "- Step 1: array1d > 5와 같이 ndarray 필터링 조건을 [ ] 안에 기재\n",
        "- Step 2: False 값은 무시하고 True 값에 해당하는 인덱스 값만 저장 (True값 자체인 1이 아닌 True값을 가진 인덱스를 저장)\n",
        "- Step 3: 저장된 인덱스 데이터 세트로 ndarray 조회\n",
        "\n",
        "\n",
        "\n"
      ],
      "metadata": {
        "id": "PPgu4YUlbWc0"
      }
    },
    {
      "cell_type": "code",
      "source": [
        "array1d > 5"
      ],
      "metadata": {
        "colab": {
          "base_uri": "https://localhost:8080/"
        },
        "id": "RWTqmXC6ccGm",
        "outputId": "71ffde97-1865-4d2b-e8ea-8e16811b5379"
      },
      "execution_count": 31,
      "outputs": [
        {
          "output_type": "execute_result",
          "data": {
            "text/plain": [
              "array([False, False, False, False, False,  True,  True,  True,  True])"
            ]
          },
          "metadata": {},
          "execution_count": 31
        }
      ]
    },
    {
      "cell_type": "code",
      "source": [
        "boolean_indexes = np.array([False, False, False, False, False, True, True, True, True])\n",
        "array3 = array1d[boolean_indexes]\n",
        "print('불린 인덱스로 필터링 결과 : ', array3)"
      ],
      "metadata": {
        "colab": {
          "base_uri": "https://localhost:8080/"
        },
        "id": "a-Pzw3XObhIz",
        "outputId": "1b3476b0-1c7b-45be-8cb2-55e450d9d98a"
      },
      "execution_count": 30,
      "outputs": [
        {
          "output_type": "stream",
          "name": "stdout",
          "text": [
            "불린 인덱스로 필터링 결과 :  [6 7 8 9]\n"
          ]
        }
      ]
    },
    {
      "cell_type": "code",
      "source": [
        "# 위와 동일 \n",
        "indexes = np.array([5, 6, 7 ,8])\n",
        "array4 = array1d[indexes]\n",
        "print('일반 인덱스로 필터링 결과 :', array4)"
      ],
      "metadata": {
        "colab": {
          "base_uri": "https://localhost:8080/"
        },
        "id": "5dBFjAR5cRT1",
        "outputId": "d7c0d816-06e0-4ba8-eb0a-59dcfdb7e26e"
      },
      "execution_count": 32,
      "outputs": [
        {
          "output_type": "stream",
          "name": "stdout",
          "text": [
            "일반 인덱스로 필터링 결과 : [6 7 8 9]\n"
          ]
        }
      ]
    },
    {
      "cell_type": "markdown",
      "source": [
        "#### **10. 행렬의 정렬 - sort()**\n",
        "행렬을 정렬하는 대표적인 방법인 np.sort()와 ndarray.sort()"
      ],
      "metadata": {
        "id": "x0qGIC8edH_U"
      }
    },
    {
      "cell_type": "markdown",
      "source": [
        "\n",
        "\n",
        "> **행렬 정렬 (1) <br/>**\n",
        "np.sort()와 같이 넘파이에서 sort()를 호출하는 방식과 ndarray.sort()와 같이 행렬 자체에서 sort()를 호출하는 방식\n",
        "- np.sort(): **원 행렬은 그대로 유지**한 채 원 행렬의 정렬된 행렬을 반환\n",
        "- ndarray.sort(): **원 행렬 자체를 정렬한 형태로 변환**하며 반환 값은 None\n"
      ],
      "metadata": {
        "id": "F9nJ9khNdZVh"
      }
    },
    {
      "cell_type": "code",
      "source": [
        "org_array = np.array([3, 1, 9, 5])\n",
        "print('원본 행렬:', org_array)\n",
        "\n",
        "# np.sort()로 정렬\n",
        "sort_array1 = np.sort(org_array)\n",
        "print('np.sort() 호출 후 반환된 정렬 행렬:', sort_array1) # 원본 행렬 변경하지 않고 정렬된 형태로 반환\n",
        "print('np.sort() 호출 후 원본 행렬:', org_array) \n",
        "\n",
        "# ndarray.sort()로 정렬\n",
        "sort_array2 = org_array.sort()\n",
        "print('org_array.sort() 호출 후 반환된 행렬:', sort_array2) # 원본 행렬 자체를 정렬한 값으로 변환\n",
        "print('org_array.sort() 호출 후 원본 행렬:', org_array)"
      ],
      "metadata": {
        "colab": {
          "base_uri": "https://localhost:8080/"
        },
        "id": "ZJChY9eHdy6e",
        "outputId": "418f515e-7863-4c51-e73a-79ebd6cbf59a"
      },
      "execution_count": 34,
      "outputs": [
        {
          "output_type": "stream",
          "name": "stdout",
          "text": [
            "원본 행렬: [3 1 9 5]\n",
            "np.sort() 호출 후 반환된 정렬 행렬: [1 3 5 9]\n",
            "np.sort() 호출 후 원본 행렬: [3 1 9 5]\n",
            "org_array.sort() 호출 후 반환된 행렬: None\n",
            "org_array.sort() 호출 후 원본 행렬: [1 3 5 9]\n"
          ]
        }
      ]
    },
    {
      "cell_type": "markdown",
      "source": [
        "> **행렬 정렬 (2) <br/>**\n",
        "np.sort()나 ndarray.sort() 모두 기본적으로 오름차순으로 행렬 내 원소를 정렬 <br/>\n",
        "내림차순으로 정렬하기 위해서는 [::-1]를 적용"
      ],
      "metadata": {
        "id": "TXeDMqsGvjuQ"
      }
    },
    {
      "cell_type": "code",
      "source": [
        "sort_array1_desc = np.sort(org_array)[::-1]\n",
        "print('내림차순으로 정렬:', sort_array1_desc)"
      ],
      "metadata": {
        "colab": {
          "base_uri": "https://localhost:8080/"
        },
        "id": "q5aF2zxOwo0q",
        "outputId": "e0d4ed6a-8f47-4409-888b-b6f0171c1569"
      },
      "execution_count": 36,
      "outputs": [
        {
          "output_type": "stream",
          "name": "stdout",
          "text": [
            "내림차순으로 정렬: [9 5 3 1]\n"
          ]
        }
      ]
    },
    {
      "cell_type": "markdown",
      "source": [
        "> **행렬 정렬 (3) <br/>**\n",
        "행렬이 2차원 이상일 경우 axis 축 값 설정을 통해 row / column 방향으로 정렬 수행 가능"
      ],
      "metadata": {
        "id": "FjDKDpVhw0WH"
      }
    },
    {
      "cell_type": "code",
      "source": [
        "array2d = np.array([[8, 12],\n",
        "                    [7, 1 ]])\n",
        "\n",
        "sort_array2d_axis0 = np.sort(array2d, axis = 0)\n",
        "print('row 방향으로 정렬:\\n', sort_array2d_axis0)\n",
        "\n",
        "sort_array2d_axis1 = np.sort(array2d, axis = 1)\n",
        "print('column 방향으로 정렬:\\n', sort_array2d_axis1)"
      ],
      "metadata": {
        "colab": {
          "base_uri": "https://localhost:8080/"
        },
        "id": "grEIN98Ow8Ex",
        "outputId": "15f08ab8-5ac3-4458-f385-189f9c1e6930"
      },
      "execution_count": 37,
      "outputs": [
        {
          "output_type": "stream",
          "name": "stdout",
          "text": [
            "row 방향으로 정렬:\n",
            " [[ 7  1]\n",
            " [ 8 12]]\n",
            "column 방향으로 정렬:\n",
            " [[ 8 12]\n",
            " [ 1  7]]\n"
          ]
        }
      ]
    },
    {
      "cell_type": "markdown",
      "source": [
        "#### **11. 정렬된 행렬의 인덱스를 반환하기 - argsort()**\n",
        "\n",
        "원본 행렬이 정렬되었을 때 기존 원본 행렬의 원소에 대한 인덱스를 필요로 할때 np.argsort() 사용\n",
        "- 정렬 행렬의 원본 행렬 인덱스를 ndarray형으로 반환"
      ],
      "metadata": {
        "id": "8lSc-640xSqv"
      }
    },
    {
      "cell_type": "markdown",
      "source": [
        "\n",
        "\n",
        "> **원본 행렬 정렬 시의 인덱스 값 구하기 (1)**\n",
        "\n"
      ],
      "metadata": {
        "id": "xmz2q6_Yxr_x"
      }
    },
    {
      "cell_type": "code",
      "source": [
        "org_array = np.array([ 3, 1, 9, 5])\n",
        "sort_indices = np.argsort(org_array)\n",
        "print(type(sort_indices))\n",
        "print('행렬 정렬 시 원본 행렬의 인덱스:', sort_indices)"
      ],
      "metadata": {
        "colab": {
          "base_uri": "https://localhost:8080/"
        },
        "id": "v0TUqMhdxzgt",
        "outputId": "46266cc8-ab3e-48e8-8560-4deb525b2d97"
      },
      "execution_count": 38,
      "outputs": [
        {
          "output_type": "stream",
          "name": "stdout",
          "text": [
            "<class 'numpy.ndarray'>\n",
            "행렬 정렬 시 원본 행렬의 인덱스: [1 0 3 2]\n"
          ]
        }
      ]
    },
    {
      "cell_type": "markdown",
      "source": [
        "> **원본 행렬 정렬 시의 인덱스 값 구하기 (2)** <br/>\n",
        "내림차순으로 정렬 시 [::-1] 적용"
      ],
      "metadata": {
        "id": "BSgM3xtiyDo5"
      }
    },
    {
      "cell_type": "code",
      "source": [
        "org_array = np.array([ 3, 1, 9, 5])\n",
        "sort_indices_desc = np.argsort(org_array)[::-1]\n",
        "print('행렬 내림차순 정렬 시 원본 행렬의 인덱스:', sort_indices_desc)"
      ],
      "metadata": {
        "colab": {
          "base_uri": "https://localhost:8080/"
        },
        "id": "eucDQoenyKFa",
        "outputId": "99ccbf1c-9b74-422f-c239-7e125b35a61c"
      },
      "execution_count": 39,
      "outputs": [
        {
          "output_type": "stream",
          "name": "stdout",
          "text": [
            "행렬 내림차순 정렬 시 원본 행렬의 인덱스: [2 3 0 1]\n"
          ]
        }
      ]
    },
    {
      "cell_type": "markdown",
      "source": [
        "> **argsort()의 활용** <br/>\n",
        "argsort()는 넘파이에서 활용도가 매우 높음 <br/>\n",
        "- 넘파이의 ndarray는 메타 데이터 (ex. RDBMS의 TABLE column, 판다스 DataFrame colum)를 가질 수 없음 <br/>\n",
        "- 따라서, 실제 값과 그 값이 뜻하는 메타 데이터를 별도의 ndarray로 각각 가져야만 함 <br/>\n",
        "- np.argsort()를 통해 반환된 인덱스를 팬시 인덱스를 적용해 추출하는 방식 사용"
      ],
      "metadata": {
        "id": "ohLhXS9Hyd8q"
      }
    },
    {
      "cell_type": "code",
      "source": [
        "import numpy as np\n",
        "\n",
        "name_array = np.array(['John', 'Mike', 'Sarah', 'Kate', 'Samuel'])\n",
        "score_array = np.array([78, 95, 84, 98, 88])\n",
        "\n",
        "sort_indices_asc = np.argsort(score_array)\n",
        "print('성적 오름차순 정렬 시 score_array의 인덱스:', sort_indices_asc)\n",
        "print('성적 오름차순으로 name_array의 이름 출력:', name_array[sort_indices_asc])"
      ],
      "metadata": {
        "colab": {
          "base_uri": "https://localhost:8080/"
        },
        "id": "mTy7fob9y41c",
        "outputId": "c8ebe1f4-f3cd-4ac4-ac06-00379f2ca86b"
      },
      "execution_count": 40,
      "outputs": [
        {
          "output_type": "stream",
          "name": "stdout",
          "text": [
            "성적 오름차순 정렬 시 score_array의 인덱스: [0 2 4 1 3]\n",
            "성적 오름차순으로 name_array의 이름 출력: ['John' 'Sarah' 'Samuel' 'Mike' 'Kate']\n"
          ]
        }
      ]
    },
    {
      "cell_type": "markdown",
      "source": [
        "#### **12. 선형대수 연산 - 행렬 내적과 전치 행렬 구하기**\n",
        "넘파이에서는 다양한 선형대수 연산을 지원하며, 그 중에서도 행렬 내적과 전치 행렬은 가장 많이 사용되는 기본 연산"
      ],
      "metadata": {
        "id": "GSqZX9ZHzj4f"
      }
    },
    {
      "cell_type": "markdown",
      "source": [
        "\n",
        "\n",
        "> **행렬 내적(행렬 곱) <br/>**\n",
        "행렬 내적은 행렬 곱이며, 두 행렬 A와 B의 내적은 np.dot()을 통해 계산 가능 <br/>\n",
        "- 두 행렬 A와 B의 내적은 왼쪽 행렬의 row와 오른쪽 행렬의 column의 원소들을 순차적으로 곱한 뒤 그 결과를 모두 더한 값\n",
        "- 왼쪽 행렬의 열 개수와 오른쪽 행렬의 행 개수가 동일해야 내적 연산 가능\n",
        "\n"
      ],
      "metadata": {
        "id": "ACFX7F_kzz2N"
      }
    },
    {
      "cell_type": "code",
      "source": [
        "A = np.array([[1, 2, 3],\n",
        "              [4, 5, 6]])\n",
        "B = np.array([[7, 8],\n",
        "              [9, 10],\n",
        "              [11, 12]])\n",
        "\n",
        "dot_product = np.dot(A, B)\n",
        "print('행렬 내적 결과:\\n', dot_product)"
      ],
      "metadata": {
        "colab": {
          "base_uri": "https://localhost:8080/"
        },
        "id": "ShziLBic0Xen",
        "outputId": "031503b7-63b7-41da-9f8e-60eb1b5da1f0"
      },
      "execution_count": 41,
      "outputs": [
        {
          "output_type": "stream",
          "name": "stdout",
          "text": [
            "행렬 내적 결과:\n",
            " [[ 58  64]\n",
            " [139 154]]\n"
          ]
        }
      ]
    },
    {
      "cell_type": "markdown",
      "source": [
        "\n",
        "\n",
        "> **전치 행렬 <br/>**\n",
        "원 행렬에서 행과 열 위치를 교환한 원소로 구성한 행렬로 transpose()를 통해 계산 가능\n",
        "- 2x2 행렬 A가 있을 경우 A 행렬의 1행 2열의 원소를 2행 1열의 원소로, 2행 1열의 원소를 1행 2열의 원소로 교환\n",
        "\n"
      ],
      "metadata": {
        "id": "S0E1cXhv0nYW"
      }
    },
    {
      "cell_type": "code",
      "source": [
        "A = np.array([[1, 2],\n",
        "             [3, 4]])\n",
        "transpose_mat = np.transpose(A)\n",
        "print('A의 전치 행렬:\\n', transpose_mat)"
      ],
      "metadata": {
        "colab": {
          "base_uri": "https://localhost:8080/"
        },
        "id": "WqocFVet06H7",
        "outputId": "f4c22326-6599-4722-caf6-7867e5d7b6a4"
      },
      "execution_count": 42,
      "outputs": [
        {
          "output_type": "stream",
          "name": "stdout",
          "text": [
            "A의 전치 행렬:\n",
            " [[1 3]\n",
            " [2 4]]\n"
          ]
        }
      ]
    }
  ]
}